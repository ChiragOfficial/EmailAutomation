{
 "cells": [
  {
   "attachments": {},
   "cell_type": "markdown",
   "metadata": {},
   "source": [
    "Libraries:\n",
    "* smtp\n",
    "* email\n",
    "* pandas"
   ]
  },
  {
   "cell_type": "code",
   "execution_count": 123,
   "metadata": {},
   "outputs": [],
   "source": [
    "from smtplib import SMTP\n",
    "from email.mime.text import MIMEText\n",
    "from email.mime.multipart import MIMEMultipart\n",
    "import pandas as pd"
   ]
  },
  {
   "cell_type": "code",
   "execution_count": 124,
   "metadata": {},
   "outputs": [],
   "source": [
    "senderEmail = \"testsubject200205@gmail.com\"\n",
    "senderEmailPassword = \"ojfkechaniadrrhn\""
   ]
  },
  {
   "cell_type": "code",
   "execution_count": 126,
   "metadata": {},
   "outputs": [],
   "source": [
    "def messageSend(body, html, senderEmail, recieverEmail):\n",
    "    message = MIMEMultipart()\n",
    "    message['Subject'] = \"Semester Mark\"\n",
    "    message['From'] = senderEmail\n",
    "    message['To'] = recieverEmail\n",
    "    msg = MIMEText(body, 'plain')\n",
    "    msgTable = MIMEText(html, 'html')\n",
    "    message.attach(msg)\n",
    "    message.attach(msgTable)\n",
    "    return message\n"
   ]
  },
  {
   "cell_type": "code",
   "execution_count": 127,
   "metadata": {},
   "outputs": [],
   "source": [
    "source = \"STUDENT_MARK.xlsx\"\n",
    "dataframe = pd.read_excel(source)"
   ]
  },
  {
   "cell_type": "code",
   "execution_count": 128,
   "metadata": {},
   "outputs": [
    {
     "data": {
      "text/plain": [
       "(221,\n",
       " b'2.0.0 closing connection 6-20020a170902e9c600b0019922187514sm576580plk.229 - gsmtp')"
      ]
     },
     "execution_count": 128,
     "metadata": {},
     "output_type": "execute_result"
    }
   ],
   "source": [
    "server = SMTP('smtp.gmail.com', 587)\n",
    "server.starttls()\n",
    "server.login(senderEmail, senderEmailPassword)\n",
    "for i in range(len(dataframe.index)):\n",
    "    name = dataframe.iloc[i, 1]\n",
    "    percentage = (dataframe['PHYSICS'][i] + dataframe['MATH'][i] + dataframe['CHEM'][i] + dataframe['BIO'][i] + dataframe['PE'][i])/5\n",
    "    body = \"Dear {}, \\n\\tYour semester mark is as below and you scored {} % marks.\".format(name, percentage)\n",
    "    htmlTable = \"\"\"\\\n",
    "        <html>\n",
    "            <head></head>\n",
    "            <body>\n",
    "                <table style=\"background-color:#0C69DF;\" border=\"1 | 0\">\n",
    "                    <tr style=\"background-color:#296D98;\">\n",
    "                        <th style=\"width:16%\">PHYSICS</th>\n",
    "                        <th style=\"width:16%\">MATH</th>\n",
    "                        <th style=\"width:16%\">CHEM</th>\n",
    "                        <th style=\"width:16%\">BIO</th>\n",
    "                        <th style=\"width:16%\">PE</th>\n",
    "                    </tr>\n",
    "                    <tr>\n",
    "                        <td align = 'center'>{}</td>\n",
    "                        <td align = 'center'>{}</td>\n",
    "                        <td align = 'center'>{}</td>\n",
    "                        <td align = 'center'>{}</td>\n",
    "                        <td align = 'center'>{}</td>\n",
    "                </table>\n",
    "            </body>\n",
    "        </html>\"\"\".format(dataframe.iloc[i, 2], dataframe.iloc[i, 3], dataframe.iloc[i, 4], dataframe.iloc[i, 5], dataframe.iloc[i, 6])\n",
    "    message = messageSend(body, htmlTable, senderEmail, dataframe.iloc[i, 7])\n",
    "\n",
    "    server.sendmail(senderEmail, message['To'], message.as_string())\n",
    "\n",
    "server.quit()\n",
    "    "
   ]
  }
 ],
 "metadata": {
  "kernelspec": {
   "display_name": "myenv",
   "language": "python",
   "name": "python3"
  },
  "language_info": {
   "codemirror_mode": {
    "name": "ipython",
    "version": 3
   },
   "file_extension": ".py",
   "mimetype": "text/x-python",
   "name": "python",
   "nbconvert_exporter": "python",
   "pygments_lexer": "ipython3",
   "version": "3.9.10"
  },
  "orig_nbformat": 4,
  "vscode": {
   "interpreter": {
    "hash": "52076fbac999c16732189ca7c9e657849266a96b2b62471a8ef7fb5c04082085"
   }
  }
 },
 "nbformat": 4,
 "nbformat_minor": 2
}
